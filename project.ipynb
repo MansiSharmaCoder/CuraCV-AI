{
 "cells": [
  {
   "cell_type": "code",
   "execution_count": 1,
   "id": "5cbd8612",
   "metadata": {},
   "outputs": [
    {
     "name": "stderr",
     "output_type": "stream",
     "text": [
      "/usr/local/lib/python3.10/dist-packages/tqdm/auto.py:21: TqdmWarning: IProgress not found. Please update jupyter and ipywidgets. See https://ipywidgets.readthedocs.io/en/stable/user_install.html\n",
      "  from .autonotebook import tqdm as notebook_tqdm\n",
      "Fetching 2 files: 100%|██████████| 2/2 [01:11<00:00, 35.68s/it]\n",
      "Loading checkpoint shards: 100%|██████████| 2/2 [00:01<00:00,  1.33it/s]\n",
      "Using a slow image processor as `use_fast` is unset and a slow processor was saved with this model. `use_fast=True` will be the default behavior in v4.52, even if the model was saved with a slow processor. This will result in minor differences in outputs. You'll still be able to use a slow processor with `use_fast=False`.\n"
     ]
    }
   ],
   "source": [
    "from transformers import Qwen2VLForConditionalGeneration, AutoProcessor\n",
    "from PIL import Image\n",
    "import torch\n",
    "\n",
    "model_name = \"Qwen/Qwen2-VL-2B-Instruct\"\n",
    "\n",
    "model = Qwen2VLForConditionalGeneration.from_pretrained(\n",
    "    model_name,\n",
    "    torch_dtype=torch.float16,  # Efficient memory usage on 40GB GPU\n",
    "    device_map=\"auto\"\n",
    ")\n",
    "processor = AutoProcessor.from_pretrained(model_name)\n"
   ]
  },
  {
   "cell_type": "code",
   "execution_count": 6,
   "id": "f306d624",
   "metadata": {},
   "outputs": [],
   "source": [
    "image_path = \"images.jpeg\"  # Replace with your actual image path in Kubeflow volume\n",
    "\n",
    "# Load your image\n",
    "image = Image.open(image_path).convert(\"RGB\")  # Ensure image is in RGB\n",
    "\n",
    "# Prepare your question and input\n",
    "messages = [\n",
    "    {\n",
    "        \"role\": \"user\",\n",
    "        \"content\": [\n",
    "            {\n",
    "                \"type\": \"image_url\",\n",
    "                \"image_url\": {\"url\": \"image\"}\n",
    "            },\n",
    "            {\n",
    "                \"type\": \"text\",\n",
    "                \"text\": \"What is wrong with the tactics in the image? Your analysis should help the coach.\"\n",
    "            }\n",
    "        ]\n",
    "    }\n",
    "]"
   ]
  },
  {
   "cell_type": "code",
   "execution_count": 7,
   "id": "cfd851e8",
   "metadata": {},
   "outputs": [
    {
     "name": "stdout",
     "output_type": "stream",
     "text": [
      "User input image path: images.jpeg\n",
      "Model analysis output:\n",
      "system\n",
      "You are a helpful assistant.\n",
      "user\n",
      "What is wrong with the tactics in the image? Your analysis should help the coach.\n",
      "assistant\n",
      "The image depicts a woman hugging a dog in a field. The woman appears to be smiling and the dog is looking at the camera. There are no apparent issues with the image itself. However, if the coach is looking for a specific analysis or critique, it would depend on the context or the purpose of the image. If the image is meant to convey a positive message about the bond between humans and animals, it might be considered a positive representation. If the image is meant to convey a message about the relationship between humans and their pets, it might be seen as a positive portrayal of pet ownership.\n"
     ]
    }
   ],
   "source": [
    "# Apply chat template\n",
    "text_prompt = processor.apply_chat_template(\n",
    "    messages,\n",
    "    add_generation_prompt=True\n",
    ")\n",
    "\n",
    "# Process inputs\n",
    "inputs = processor(\n",
    "    text=[text_prompt],\n",
    "    images=[image],\n",
    "    padding=True,\n",
    "    return_tensors=\"pt\"\n",
    ")\n",
    "\n",
    "device = 'cuda'\n",
    "\n",
    "# Move inputs to GPU explicitly for Kubeflow environment\n",
    "inputs = {k: v.to(device) for k, v in inputs.items()}\n",
    "model = model.to(device)\n",
    "\n",
    "# Generate the response\n",
    "with torch.no_grad():\n",
    "    output_ids = model.generate(**inputs, max_new_tokens=512)\n",
    "\n",
    "# Decode generated outputs\n",
    "output_text = processor.batch_decode(\n",
    "    output_ids,\n",
    "    skip_special_tokens=True,\n",
    "    clean_up_tokenization_spaces=True\n",
    ")\n",
    "\n",
    "# ========================\n",
    "# Print the output with user input path\n",
    "# ========================\n",
    "\n",
    "print(f\"User input image path: {image_path}\")\n",
    "print(\"Model analysis output:\")\n",
    "print(output_text[0])"
   ]
  },
  {
   "cell_type": "code",
   "execution_count": null,
   "id": "f9097d02",
   "metadata": {},
   "outputs": [],
   "source": []
  }
 ],
 "metadata": {
  "kernelspec": {
   "display_name": "Python 3 (ipykernel)",
   "language": "python",
   "name": "python3"
  },
  "language_info": {
   "codemirror_mode": {
    "name": "ipython",
    "version": 3
   },
   "file_extension": ".py",
   "mimetype": "text/x-python",
   "name": "python",
   "nbconvert_exporter": "python",
   "pygments_lexer": "ipython3",
   "version": "3.10.12"
  }
 },
 "nbformat": 4,
 "nbformat_minor": 5
}
